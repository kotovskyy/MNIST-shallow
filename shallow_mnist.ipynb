{
 "cells": [
  {
   "cell_type": "code",
   "execution_count": 1,
   "metadata": {},
   "outputs": [],
   "source": [
    "import numpy as np\n",
    "import pandas as pd\n",
    "import matplotlib.pyplot as plt"
   ]
  },
  {
   "cell_type": "code",
   "execution_count": 2,
   "metadata": {},
   "outputs": [],
   "source": [
    "data_train_csv = pd.read_csv('datasets/mnist_train.csv')\n",
    "data_test_csv = pd.read_csv('datasets/mnist_test.csv')"
   ]
  },
  {
   "cell_type": "code",
   "execution_count": 3,
   "metadata": {},
   "outputs": [],
   "source": [
    "# number of training samples\n",
    "N_samples = 60000\n",
    "# number of sample's features\n",
    "N_features = 784\n",
    "data_train = np.array(data_train_csv)[:N_samples].T\n",
    "Y_train = data_train[0].copy()\n",
    "X_train = data_train[1:].copy()/255"
   ]
  },
  {
   "cell_type": "code",
   "execution_count": 4,
   "metadata": {},
   "outputs": [],
   "source": [
    "data_test = np.array(data_test_csv).T\n",
    "Y_test = data_test[0].copy()\n",
    "X_test = data_test[1:].copy() / 255"
   ]
  },
  {
   "cell_type": "code",
   "execution_count": 5,
   "metadata": {},
   "outputs": [],
   "source": [
    "def initNetwork(K: int) -> (np.ndarray, np.ndarray, np.ndarray, np.ndarray):\n",
    "    \"\"\"\n",
    "    Network initialization.\n",
    "    \n",
    "    This function initializes weights and biases for the network of shape \n",
    "    (784 - K - 10), where `784` is number of inputs with values in range [0, 1],\n",
    "    `K` is a number of neurons in the hidden layer and `10` is a number of \n",
    "    output classes. Weights and biases are initialized with values from a \n",
    "    uniform distribution [0, 1) scaled to (-0.1, 0.1) range.\n",
    "    \n",
    "    ### Parameters:\n",
    "    - `K: int` - number of neurons in the hidden layer\n",
    "    \n",
    "    ### Returns:\n",
    "    - `W1: np.array` - weights matrix, `shape=(K, 784)` for the first layer\n",
    "    - `b1: np.array` - biases matrix, `shape=(K, 1)` for the first layer\n",
    "    - `W2: np.array` - weights matrix, `shape=(10, K)` for the second layer\n",
    "    - `b2: np.array` - biases matrix, `shape=(10, 1)` for the second layer\n",
    "    \"\"\"\n",
    "    W1 = np.random.rand(K, 784) * 0.2 - 0.1\n",
    "    b1 = np.random.rand(K, 1) * 0.2 - 0.1\n",
    "    W2 = np.random.rand(10, K) * 0.2 - 0.1\n",
    "    b2 = np.random.rand(10, 1) * 0.2 - 0.1\n",
    "    \n",
    "    return W1, b1, W2, b2\n",
    "\n",
    "def ReLU(U:np.ndarray):\n",
    "    \"\"\"\n",
    "    Rectified linear unit (ReLU) function.\n",
    "    \n",
    "    Applies ReLU function elementwise to the input vector.\n",
    "    \"\"\"\n",
    "    return np.maximum(U, 0)\n",
    "\n",
    "def softmax(U:np.ndarray):\n",
    "    \"\"\"\n",
    "    Softmax function.\n",
    "    \n",
    "    Applies Softmax function element-wise to the input vector.\n",
    "    \"\"\"\n",
    "    exp = np.exp(U)\n",
    "    return exp / sum(exp)\n",
    "\n",
    "def forwardPropagation(X:np.ndarray, W1:np.ndarray, b1:np.ndarray, W2:np.ndarray, b2:np.ndarray):\n",
    "    \"\"\"\n",
    "    Execute a forward propagation step.\n",
    "    \n",
    "    Starts a forward propagation step with the given parameters. On the network\n",
    "    with of shape (784 - K - 10), where `784` is number of inputs with values in\n",
    "    range [0, 1], `K` is a number of neurons in the hidden layer and `10` is a \n",
    "    number of output classes.\n",
    "    \n",
    "    ### Parameters:\n",
    "    - `X: np.array` - input vector, `shape=(784, 1)`. Values in range [0, 1]\n",
    "    - `W1: np.array` - weights matrix for the first layer (input -> hidden)\n",
    "    - `b1: np.array` - biases matrix for the first layer (input -> hidden)\n",
    "    - `W2: np.array` - weights matrix for the second layer (hidden -> output)\n",
    "    - `b2: np.array` - biases matrix for the second layer (hidden -> output)\n",
    "    \n",
    "    ### Returns:\n",
    "    - `U1: np.array` - pre-activation output of the first layer, `shape=(K, 1)`\n",
    "    - `Y1: np.array` - output of the first layer with applied `ReLU` function\n",
    "    - `U2: np.array` - pre-activation output of the first layer, `shape=(10, 1)`\n",
    "    - `Y2: np.array` - output of the second layer with applied `softmax` function\n",
    "    \"\"\"\n",
    "    U1 = W1.dot(X) + b1\n",
    "    Y1 = ReLU(U1)\n",
    "    U2 = W2.dot(Y1) + b2\n",
    "    Y2 = softmax(U2)\n",
    "    \n",
    "    return U1, Y1, U2, Y2\n",
    "\n",
    "def oneHot(Y):\n",
    "    \"\"\"\n",
    "    Create a one-hot matrix for the given array.\n",
    "    \"\"\"\n",
    "    n_elements = Y.size\n",
    "    one_hot_Y = np.zeros((10, n_elements))\n",
    "    one_hot_Y[Y, np.arange(n_elements)] = 1\n",
    "    return one_hot_Y\n",
    "\n",
    "def MSE(D):\n",
    "    \"\"\"\n",
    "    Calculate the MSE for given array.\n",
    "    \n",
    "    ### Parameters:\n",
    "    - `D: np.array` - array with values `A_1 - A_2`, where `A_1` and `A_2` are\n",
    "    the two arrays, for which MSE is calculated.\n",
    "    \"\"\"\n",
    "    return np.mean(np.square(D))\n",
    "\n",
    "def ReLUDerivative(U):\n",
    "    \"\"\"\n",
    "    Return the result of element-wise ReLU derivative calculation.\n",
    "    \"\"\"\n",
    "    return U > 0\n",
    "\n",
    "def backwardPropagation(U1, Y1, U2, Y2, W1, b1, W2, b2, X, Y):\n",
    "    \"\"\"\n",
    "    Execute a backward propagation step.\n",
    "    \n",
    "    Starts a forward propagation step with the given parameters.\n",
    "    \n",
    "    ### Parameters:\n",
    "    - `U1: np.array` - pre-activation output of the first layer, `shape=(K, 1)`\n",
    "    - `Y1: np.array` - output of the first layer with applied `ReLU` function\n",
    "    - `U2: np.array` - pre-activation output of the first layer, `shape=(10, 1)`\n",
    "    - `Y2: np.array` - output of the second layer with applied `softmax` function\n",
    "    - `W1: np.array` - weights matrix for the first layer (input -> hidden)\n",
    "    - `b1: np.array` - biases matrix for the first layer (input -> hidden)\n",
    "    - `W2: np.array` - weights matrix for the second layer (hidden -> output)\n",
    "    - `b2: np.array` - biases matrix for the second layer (hidden -> output)\n",
    "    - `X: np.array` - input vector, `shape=(784, 1)`. Values in range [0, 1]\n",
    "    - `Y: np.array` - array of desired outputs (labels)\n",
    "    \n",
    "    ### Returns:\n",
    "    - `dW1: np.array` - corrections for weights matrix of the first layer\n",
    "    - `db1: np.array` - corrections for biases matrix of the first layer\n",
    "    - `dW2: np.array` - corrections for weights matrix of the second layer\n",
    "    - `db2: np.array` - corrections for biases matrix of the second layer\n",
    "    - `error: float` - MSE of output compared to labels\n",
    "    \"\"\"\n",
    "    n_samples = Y.size\n",
    "    one_hot_Y = oneHot(Y)\n",
    "    D2 = Y2 - one_hot_Y\n",
    "    error = MSE(D2)\n",
    "    dW2 = 1/n_samples * (2*D2).dot(Y1.T)\n",
    "    db2 = 1/n_samples * 2 * np.sum(D2)\n",
    "    D1 = W2.T.dot(D2) * ReLUDerivative(U1)\n",
    "    dW1 = 1/n_samples * (2*D1).dot(X.T)\n",
    "    db1 = 1/n_samples * 2 * np.sum(D1)\n",
    "    \n",
    "    return dW1, db1, dW2, db2, error\n",
    "\n",
    "def updateParams(W1, b1, W2, b2, dW1, db1, dW2, db2, lr, dW1_prev, db1_prev, dW2_prev, db2_prev):\n",
    "    \"\"\"\n",
    "    Update the weights matrices with given corrections.\n",
    "    \n",
    "    ### Parameters:\n",
    "    - `W1: np.array` - weights matrix for the first layer (input -> hidden)\n",
    "    - `b1: np.array` - biases matrix for the first layer (input -> hidden)\n",
    "    - `W2: np.array` - weights matrix for the second layer (hidden -> output)\n",
    "    - `b2: np.array` - biases matrix for the second layer (hidden -> output)\n",
    "    - `dW1: np.array` - corrections for weights matrix of the first layer\n",
    "    - `db1: np.array` - corrections for biases matrix of the first layer\n",
    "    - `dW2: np.array` - corrections for weights matrix of the second layer\n",
    "    - `db2: np.array` - corrections for biases matrix of the second layer\n",
    "    - `lr: float` - learning rate\n",
    "    \n",
    "    ### Returns:\n",
    "    - `W1: np.array` - updated weights matrix for the first layer\n",
    "    - `b1: np.array` - updated biases matrix for the first layer\n",
    "    - `W2: np.array` - updated weights matrix for the second layer\n",
    "    - `b2: np.array` - updated biases matrix for the second layer\n",
    "    \"\"\"\n",
    "    ndW1 = (lr * dW1 + (1-lr)*dW1_prev)\n",
    "    ndb1 = (lr * db1 + (1-lr)*db1_prev)\n",
    "    ndW2 = (lr * dW2 + (1-lr)*dW2_prev)\n",
    "    ndb2 = (lr * db2 + (1-lr)*db2_prev)\n",
    "    W1 -= ndW1\n",
    "    b1 -= ndb1\n",
    "    W2 -= ndW2\n",
    "    b2 -= ndb2\n",
    "    \n",
    "    return W1, b1, W2, b2, ndW1, ndb1, ndW2, ndb2\n",
    "\n",
    "\n",
    "    "
   ]
  },
  {
   "cell_type": "code",
   "execution_count": 6,
   "metadata": {},
   "outputs": [],
   "source": [
    "def getPredictions(Y):\n",
    "    \"\"\"\n",
    "    Get predictions from the NN output vector.\n",
    "    \n",
    "    ### Parameters:\n",
    "    - `Y: np.array` - output of the NN\n",
    "    \n",
    "    ### Returns:\n",
    "    - `np.array` - array of classes' numbers\n",
    "    \"\"\"\n",
    "    return np.argmax(Y, 0)\n",
    "\n",
    "def getAccuracy(pred, T):\n",
    "    \"\"\"\n",
    "    Get accuracy of the NN\n",
    "    \n",
    "    ### Parameters:\n",
    "    - `pred: np.array` - array of NN predictions\n",
    "    - `T: np.array` - desired output (labels)\n",
    "    \n",
    "    ### Returns:\n",
    "    - `float` - percent value of NN accuracy\n",
    "    \"\"\"\n",
    "    # print(f\"Prediction(s): {pred}, Label(s): {T}\")\n",
    "    return np.sum(pred==T)/T.size\n",
    "    \n",
    "\n",
    "def gradientDescent(X, Y, K, lr, iterations):\n",
    "    \"\"\"\n",
    "    Train the neural network on given parameters for specified number of epochs\n",
    "    \n",
    "    ### Parameters:\n",
    "    - `X: np.array` - input vector, `shape=(784, 1)`. Values in range [0, 1]\n",
    "    - `Y: np.array' - array of desired outputs (labels)\n",
    "    - `K: int` - number of neurons in the hidden layer\n",
    "    - `lr: float` - learning rate\n",
    "    - `iterations: int` - number of epochs\n",
    "    \n",
    "    \n",
    "    ### Returns:\n",
    "    - `W1: np.array` - trained weights matrix for the first layer\n",
    "    - `b1: np.array` - trained biases matrix for the first layer\n",
    "    - `W2: np.array` - trained weights matrix for the second layer\n",
    "    - `b2: np.array` - trained biases matrix for the second layer\n",
    "    \"\"\"\n",
    "    \n",
    "    W1, b1, W2, b2 = initNetwork(K)\n",
    "    for i in range(1, iterations+1):\n",
    "        U1, Y1, U2, Y2 = forwardPropagation(X, W1, b1, W2, b2)\n",
    "        dW1, db1, dW2, db2, error = backwardPropagation(U1, Y1, U2, Y2, W1, b1, W2, b2, X, Y)\n",
    "        W1, b1, W2, b2 = updateParams(W1, b1, W2, b2, dW1, db1, dW2, db2, lr)\n",
    "        if i % 10 == 0:\n",
    "            print(f\"Epoch: {i}\")\n",
    "            predictions = getPredictions(Y2)\n",
    "            print(f\"MSE = {error}\")\n",
    "            print(f\"Accuracy: {getAccuracy(predictions, Y)}%\")\n",
    "    \n",
    "    return W1, b1, W2, b2"
   ]
  },
  {
   "cell_type": "code",
   "execution_count": 12,
   "metadata": {},
   "outputs": [],
   "source": [
    "def makePredictions(X, W1, b1, W2, b2):\n",
    "    _, _, _, Y2 = forwardPropagation(X, W1, b1, W2, b2)\n",
    "    predictions = getPredictions(Y2)\n",
    "    return predictions\n",
    "\n",
    "def getTestAccuracy(TX, TY, W1, b1, W2, b2):\n",
    "    predictions = makePredictions(TX, W1, b1, W2, b2)\n",
    "    accuracy_test = getAccuracy(predictions, TY)\n",
    "    return accuracy_test\n",
    "\n",
    "def miniBatchGradientDescend(X, Y, K, lr, iterations, batchSize, TX, TY, decay=0):\n",
    "    \"\"\"\n",
    "    Train the NN using given parameters for a given number of epochs using \n",
    "    mini-batch method.\n",
    "    \n",
    "    ### Parameters:\n",
    "    - `X: np.array` - input vector, `shape=(784, 1)`. Values in range [0, 1]\n",
    "    - `Y: np.array' - array of desired outputs (labels)\n",
    "    - `K: int` - number of neurons in the hidden layer\n",
    "    - `lr: float` - learning rate\n",
    "    - `iterations: int` - number of epochs\n",
    "    - `batchSize: int` - number of samples in mini-batch\n",
    "    \n",
    "    \n",
    "    ### Returns:\n",
    "    - `W1: np.array` - trained weights matrix for the first layer\n",
    "    - `b1: np.array` - trained biases matrix for the first layer\n",
    "    - `W2: np.array` - trained weights matrix for the second layer\n",
    "    - `b2: np.array` - trained biases matrix for the second layer\n",
    "    \"\"\"\n",
    "    W1, b1, W2, b2 = initNetwork(K)\n",
    "    history = {\"accuracy_train\" : list(),\n",
    "               \"accuracy_test\" : list(),\n",
    "               \"error\" : list()}\n",
    "    dW1_prev, db1_prev, dW2_prev, db2_prev = 0.0, 0.0, 0.0, 0.0\n",
    "    for i in range(iterations):\n",
    "        # divide given X dataset into smaller 'mini-batches'\n",
    "        # 1) calculate the number of batches\n",
    "        n_samples = X.shape[1]\n",
    "        # a number of full mini-batches\n",
    "        n_full_batches = n_samples // batchSize\n",
    "        lr = lr * 1.0/(1.0 + decay*i)\n",
    "        # the last mini-batch may not be of size `batchSize`\n",
    "        for b in range(n_full_batches+1):\n",
    "            mbatch_start = b * batchSize\n",
    "            mbatch_end = mbatch_start + batchSize\n",
    "            if b == n_full_batches:\n",
    "                X_mini = X[:, mbatch_start:]\n",
    "                Y_mini = Y[mbatch_start:]\n",
    "            else:\n",
    "                X_mini = X[:, mbatch_start:mbatch_end]\n",
    "                Y_mini = Y[mbatch_start:mbatch_end]\n",
    "            \n",
    "            # after we have devided dataset into smaller batches\n",
    "            # we have to train the NN on every batch\n",
    "            # and update the parameters after every mini-batch\n",
    "            U1, Y1, U2, Y2 = forwardPropagation(X_mini, W1, b1, W2, b2)\n",
    "            dW1, db1, dW2, db2, error = backwardPropagation(U1, Y1, U2, Y2, W1, b1, W2, b2, X_mini, Y_mini)\n",
    "            W1, b1, W2, b2, dW1_prev, db1_prev, dW2_prev, db2_prev = updateParams(W1, b1, W2, b2, dW1, db1, dW2, db2, lr, dW1_prev, db1_prev, dW2_prev, db2_prev)\n",
    "\n",
    "        predictions = makePredictions(X, W1, b1, W2, b2)\n",
    "        accuracy_train = getAccuracy(predictions, Y)\n",
    "        accuracy_test = getTestAccuracy(TX, TY, W1, b1, W2, b2)\n",
    "        \n",
    "        history[\"accuracy_test\"].append(accuracy_test)\n",
    "        history[\"accuracy_train\"].append(accuracy_train)\n",
    "        error_limit = 0.0000001\n",
    "        if error < error_limit:\n",
    "            print(f\"Error < {error_limit}\")\n",
    "            print(f\"Epoch: {i}\")\n",
    "            print(f\"MSE = {error}\")\n",
    "            print(f\"Learning rate: {lr}\")\n",
    "            print(f\"Accuracy: {accuracy_train}\")\n",
    "            break\n",
    "        \n",
    "        if i % 10 == 0:\n",
    "            print(f\"Epoch: {i}\")\n",
    "            print(f\"MSE = {error}\")\n",
    "            print(f\"Learning rate: {lr}\")\n",
    "            print(f\"Accuracy: {accuracy_train}\")\n",
    "        \n",
    "    return W1, b1, W2, b2, history, accuracy_test\n",
    "            \n",
    "                   "
   ]
  },
  {
   "cell_type": "code",
   "execution_count": 32,
   "metadata": {},
   "outputs": [
    {
     "name": "stdout",
     "output_type": "stream",
     "text": [
      "Epoch: 0\n",
      "MSE = 0.0060311384623740584\n",
      "Learning rate: 0.1\n",
      "Accuracy: 0.9504\n",
      "Epoch: 10\n",
      "MSE = 9.045078642726112e-05\n",
      "Learning rate: 0.09945170107501497\n",
      "Accuracy: 0.9930833333333333\n",
      "Epoch: 20\n",
      "MSE = 1.605383777879144e-06\n",
      "Learning rate: 0.09792330020853654\n",
      "Accuracy: 0.9982\n",
      "Epoch: 30\n",
      "MSE = 4.751509076732843e-07\n",
      "Learning rate: 0.09546096199983982\n",
      "Accuracy: 0.9999666666666667\n",
      "Epoch: 40\n",
      "MSE = 1.8063027973631698e-07\n",
      "Learning rate: 0.09213737431370209\n",
      "Accuracy: 1.0\n",
      "Error < 1e-07\n",
      "Epoch: 48\n",
      "MSE = 9.609996325262033e-08\n",
      "Learning rate: 0.08892202359654605\n",
      "Accuracy: 1.0\n"
     ]
    }
   ],
   "source": [
    "W1_mb, b1_mb, W2_mb, b2_mb, history, _ = miniBatchGradientDescend(X_train, Y_train, 256, 0.1, 200, 512, X_test, Y_test, 0.0001)\n",
    "# 0.9817, 3m 23s\n",
    "# W1_mb, b1_mb, W2_mb, b2_mb, history, _ = miniBatchGradientDescend(X_train, Y_train, 256, 0.1, 200, 512, X_test, Y_test, 0.0001)\n",
    "# 98.44% 15m 57s\n",
    "# W1_mb, b1_mb, W2_mb, b2_mb, history, _ = miniBatchGradientDescend(X_train, Y_train, 512, 0.1, 200, 256, X_test, Y_test, 0.0001)\n",
    "# 97.95% on test set after training on 60,000 examples\n",
    "# W1_mb, b1_mb, W2_mb, b2_mb, history = miniBatchGradientDescend(X_train, Y_train, 256, 0.05, 200, 512, X_test, Y_test, 0.0001)\n",
    "# 96.86% test accuracy\n",
    "# W1_mb, b1_mb, W2_mb, b2_mb, history = miniBatchGradientDescend(X_train, Y_train, 128, 0.05, 200, 512, X_test, Y_test, 0.0001)\n"
   ]
  },
  {
   "cell_type": "code",
   "execution_count": 33,
   "metadata": {},
   "outputs": [
    {
     "data": {
      "image/png": "[encoded data removed]",
      "text/plain": [
       "<Figure size 640x480 with 1 Axes>"
      ]
     },
     "metadata": {},
     "output_type": "display_data"
    }
   ],
   "source": [
    "plt.plot(history[\"accuracy_train\"], label=\"train\")\n",
    "plt.plot(history[\"accuracy_test\"], label=\"test\")\n",
    "plt.grid(True)\n",
    "plt.legend()\n",
    "plt.show()"
   ]
  },
  {
   "cell_type": "code",
   "execution_count": 26,
   "metadata": {},
   "outputs": [],
   "source": [
    "def makePredictions(X, W1, b1, W2, b2):\n",
    "    _, _, _, Y2 = forwardPropagation(X, W1, b1, W2, b2)\n",
    "    predictions = getPredictions(Y2)\n",
    "    return predictions\n",
    "\n",
    "def testPrediction(index, W1, b1, W2, b2):\n",
    "    current_image = X_train[:, index, None]\n",
    "    prediction = makePredictions(current_image, W1, b1, W2, b2)\n",
    "    label = Y_train[index]\n",
    "    # print(f\"Prediction: {LABELS[prediction]}\")\n",
    "    # print(f\"Label: {LABELS[label]}\")\n",
    "    print(f\"Prediction: {prediction}\")\n",
    "    print(f\"Label: {label}\")\n",
    "    \n",
    "    current_image = current_image.reshape((28,28)) * 255\n",
    "    plt.gray()\n",
    "    plt.imshow(current_image)\n",
    "    plt.show()"
   ]
  },
  {
   "cell_type": "code",
   "execution_count": 125,
   "metadata": {},
   "outputs": [],
   "source": [
    "learning_rates = [0.1,]\n",
    "decay = [0.01, 0.001, 0.0001]\n",
    "hidden_neurons = [256,]\n",
    "batch_size = [256, 512, 1024]\n"
   ]
  },
  {
   "cell_type": "code",
   "execution_count": 126,
   "metadata": {},
   "outputs": [],
   "source": [
    "def tuneHyperParams():\n",
    "    result = dict()\n",
    "    for lr in learning_rates:\n",
    "        for d in decay:\n",
    "            for hn in hidden_neurons:\n",
    "                for bs in batch_size:\n",
    "                    _, _, _, _, _, acc_test = miniBatchGradientDescend(X_train, Y_train, hn, lr, 200, bs, X_test, Y_test, d)\n",
    "                    result[f\"lr={lr}, decay={d}, hidden_s={hn}, batch_s={bs}\"] = acc_test\n",
    "                    print(f\"lr={lr}, decay={d}, hidden_s={hn}, batch_s={bs}, accuracy = {acc_test}\")\n",
    "    return result"
   ]
  },
  {
   "cell_type": "code",
   "execution_count": 127,
   "metadata": {},
   "outputs": [
    {
     "name": "stdout",
     "output_type": "stream",
     "text": [
      "Error < 1e-05\n",
      "Epoch: 14\n",
      "MSE = 9.604465016674354e-06\n",
      "Learning rate: 0.03669118291810094\n",
      "Accuracy: 0.9988666666666667\n",
      "lr=0.1, decay=0.01, hidden_s=256, batch_s=256, accuracy = 0.9659\n",
      "Error < 1e-05\n",
      "Epoch: 20\n",
      "MSE = 7.709543804022383e-06\n",
      "Learning rate: 0.01395114355303044\n",
      "Accuracy: 0.9978\n",
      "lr=0.1, decay=0.01, hidden_s=256, batch_s=512, accuracy = 0.9647\n",
      "lr=0.1, decay=0.01, hidden_s=256, batch_s=1024, accuracy = 0.5176\n",
      "Error < 1e-05\n",
      "Epoch: 17\n",
      "MSE = 6.273595611893192e-06\n",
      "Learning rate: 0.0858889312009747\n",
      "Accuracy: 0.9995333333333334\n",
      "lr=0.1, decay=0.001, hidden_s=256, batch_s=256, accuracy = 0.967\n",
      "Error < 1e-05\n",
      "Epoch: 17\n",
      "MSE = 8.39783447507291e-06\n",
      "Learning rate: 0.0858889312009747\n",
      "Accuracy: 0.9956\n",
      "lr=0.1, decay=0.001, hidden_s=256, batch_s=512, accuracy = 0.9628\n",
      "Error < 1e-05\n",
      "Epoch: 64\n",
      "MSE = 9.664607561853993e-06\n",
      "Learning rate: 0.013046260810251025\n",
      "Accuracy: 1.0\n",
      "lr=0.1, decay=0.001, hidden_s=256, batch_s=1024, accuracy = 0.9675\n",
      "Error < 1e-05\n",
      "Epoch: 15\n",
      "MSE = 9.757403535318421e-06\n",
      "Learning rate: 0.09880778341871678\n",
      "Accuracy: 0.9997333333333334\n",
      "lr=0.1, decay=0.0001, hidden_s=256, batch_s=256, accuracy = 0.9698\n",
      "Error < 1e-05\n",
      "Epoch: 21\n",
      "MSE = 7.2657130388977124e-06\n",
      "Learning rate: 0.09771809221488528\n",
      "Accuracy: 0.9986\n",
      "lr=0.1, decay=0.0001, hidden_s=256, batch_s=512, accuracy = 0.9646\n",
      "Error < 1e-05\n",
      "Epoch: 69\n",
      "MSE = 9.994869111047015e-06\n",
      "Learning rate: 0.07858868442257463\n",
      "Accuracy: 1.0\n",
      "lr=0.1, decay=0.0001, hidden_s=256, batch_s=1024, accuracy = 0.9693\n"
     ]
    }
   ],
   "source": [
    "result = tuneHyperParams()"
   ]
  },
  {
   "cell_type": "code",
   "execution_count": 128,
   "metadata": {},
   "outputs": [
    {
     "name": "stdout",
     "output_type": "stream",
     "text": [
      "lr=0.1, decay=0.0001, hidden_s=256, batch_s=256 : Test Accuracy = 0.9698\n",
      "lr=0.1, decay=0.0001, hidden_s=256, batch_s=1024 : Test Accuracy = 0.9693\n",
      "lr=0.1, decay=0.001, hidden_s=256, batch_s=1024 : Test Accuracy = 0.9675\n",
      "lr=0.1, decay=0.001, hidden_s=256, batch_s=256 : Test Accuracy = 0.967\n",
      "lr=0.1, decay=0.01, hidden_s=256, batch_s=256 : Test Accuracy = 0.9659\n",
      "lr=0.1, decay=0.01, hidden_s=256, batch_s=512 : Test Accuracy = 0.9647\n",
      "lr=0.1, decay=0.0001, hidden_s=256, batch_s=512 : Test Accuracy = 0.9646\n",
      "lr=0.1, decay=0.001, hidden_s=256, batch_s=512 : Test Accuracy = 0.9628\n",
      "lr=0.1, decay=0.01, hidden_s=256, batch_s=1024 : Test Accuracy = 0.5176\n"
     ]
    }
   ],
   "source": [
    "sorted_result = {k:v for k, v in sorted(result.items(), key=lambda x: x[1], reverse=True)}\n",
    "for k, v in sorted_result.items():\n",
    "    print(f\"{k} : Test Accuracy = {v}\")"
   ]
  },
  {
   "cell_type": "code",
   "execution_count": 27,
   "metadata": {},
   "outputs": [
    {
     "name": "stdout",
     "output_type": "stream",
     "text": [
      "Prediction: [7]\n",
      "Label: 7\n"
     ]
    },
    {
     "data": {
      "image/png": "[encoded data removed]",
      "text/plain": [
       "<Figure size 640x480 with 1 Axes>"
      ]
     },
     "metadata": {},
     "output_type": "display_data"
    },
    {
     "name": "stdout",
     "output_type": "stream",
     "text": [
      "Prediction: [8]\n",
      "Label: 8\n"
     ]
    },
    {
     "data": {
      "image/png": "[encoded data removed]",
      "text/plain": [
       "<Figure size 640x480 with 1 Axes>"
      ]
     },
     "metadata": {},
     "output_type": "display_data"
    },
    {
     "name": "stdout",
     "output_type": "stream",
     "text": [
      "Prediction: [9]\n",
      "Label: 9\n"
     ]
    },
    {
     "data": {
      "image/png": "[encoded data removed]",
      "text/plain": [
       "<Figure size 640x480 with 1 Axes>"
      ]
     },
     "metadata": {},
     "output_type": "display_data"
    }
   ],
   "source": [
    "# testPrediction(0, W1, b1, W2, b2)\n",
    "# testPrediction(1, W1, b1, W2, b2)\n",
    "# testPrediction(2, W1, b1, W2, b2)\n",
    "testPrediction(15, W1_mb, b1_mb, W2_mb, b2_mb)\n",
    "testPrediction(17, W1_mb, b1_mb, W2_mb, b2_mb)\n",
    "testPrediction(22, W1_mb, b1_mb, W2_mb, b2_mb)"
   ]
  },
  {
   "cell_type": "code",
   "execution_count": 34,
   "metadata": {},
   "outputs": [
    {
     "data": {
      "text/plain": [
       "0.9816"
      ]
     },
     "execution_count": 34,
     "metadata": {},
     "output_type": "execute_result"
    }
   ],
   "source": [
    "test_predictions = makePredictions(X_test, W1_mb, b1_mb, W2_mb, b2_mb)\n",
    "getAccuracy(test_predictions, Y_test)\n",
    "# getTestAccuracy(X_test, Y_test, W1_mb, b1_mb, W2_mb, b2_mb)"
   ]
  }
 ],
 "metadata": {
  "kernelspec": {
   "display_name": "neuralnets",
   "language": "python",
   "name": "python3"
  },
  "language_info": {
   "codemirror_mode": {
    "name": "ipython",
    "version": 3
   },
   "file_extension": ".py",
   "mimetype": "text/x-python",
   "name": "python",
   "nbconvert_exporter": "python",
   "pygments_lexer": "ipython3",
   "version": "3.11.0"
  }
 },
 "nbformat": 4,
 "nbformat_minor": 2
}
